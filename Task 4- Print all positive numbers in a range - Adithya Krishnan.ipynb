{
 "cells": [
  {
   "cell_type": "code",
   "execution_count": 5,
   "metadata": {},
   "outputs": [
    {
     "name": "stdout",
     "output_type": "stream",
     "text": [
      "Array size: 5\n",
      "1 12 \n",
      "2 -7\n",
      "3 5 \n",
      "4 64 \n",
      "5 -14\n",
      "\n",
      "Now the positive elements are: \n",
      "12\n",
      "5\n",
      "64\n"
     ]
    }
   ],
   "source": [
    "A=[]\n",
    "n=int(input(\"Array size: \"))\n",
    "for i in range(0,n):\n",
    "    elem=(int(input(str(i+1))))\n",
    "    A.append(elem)\n",
    "print(\"\\nNow the positive elements are: \")\n",
    "for i in range(0,n):\n",
    "    if(A[i]>0):\n",
    "        print(A[i])"
   ]
  },
  {
   "cell_type": "code",
   "execution_count": 6,
   "metadata": {},
   "outputs": [
    {
     "name": "stdout",
     "output_type": "stream",
     "text": [
      "Array size: 4\n",
      "1 12 \n",
      "2 14\n",
      "3 -95\n",
      "4 3\n",
      "\n",
      "Now the positive elements are: \n",
      "12\n",
      "14\n",
      "3\n"
     ]
    }
   ],
   "source": [
    "A=[]\n",
    "n=int(input(\"Array size: \"))\n",
    "for i in range(0,n):\n",
    "    elem=(int(input(str(i+1))))\n",
    "    A.append(elem)\n",
    "print(\"\\nNow the positive elements are: \")\n",
    "for i in range(0,n):\n",
    "    if(A[i]>0):\n",
    "        print(A[i])"
   ]
  }
 ],
 "metadata": {
  "kernelspec": {
   "display_name": "Python 3",
   "language": "python",
   "name": "python3"
  },
  "language_info": {
   "codemirror_mode": {
    "name": "ipython",
    "version": 3
   },
   "file_extension": ".py",
   "mimetype": "text/x-python",
   "name": "python",
   "nbconvert_exporter": "python",
   "pygments_lexer": "ipython3",
   "version": "3.7.0"
  }
 },
 "nbformat": 4,
 "nbformat_minor": 2
}
